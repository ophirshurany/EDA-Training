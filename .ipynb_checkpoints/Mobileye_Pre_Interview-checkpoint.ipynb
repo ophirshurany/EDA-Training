{
 "cells": [
  {
   "cell_type": "code",
   "execution_count": 44,
   "metadata": {},
   "outputs": [],
   "source": [
    "import pandas as pd\n",
    "import seaborn as sns\n",
    "import numpy as np\n",
    "import math\n",
    "import matplotlib.pyplot as plt\n",
    "%matplotlib inline\n",
    "sns.set()"
   ]
  },
  {
   "cell_type": "markdown",
   "metadata": {},
   "source": [
    "<h1><u>Q1 - Test Data</u></h1>"
   ]
  },
  {
   "cell_type": "code",
   "execution_count": 45,
   "metadata": {},
   "outputs": [
    {
     "data": {
      "text/html": [
       "<div>\n",
       "<style scoped>\n",
       "    .dataframe tbody tr th:only-of-type {\n",
       "        vertical-align: middle;\n",
       "    }\n",
       "\n",
       "    .dataframe tbody tr th {\n",
       "        vertical-align: top;\n",
       "    }\n",
       "\n",
       "    .dataframe thead th {\n",
       "        text-align: right;\n",
       "    }\n",
       "</style>\n",
       "<table border=\"1\" class=\"dataframe\">\n",
       "  <thead>\n",
       "    <tr style=\"text-align: right;\">\n",
       "      <th></th>\n",
       "      <th>Country</th>\n",
       "      <th>Illumination</th>\n",
       "      <th>road_type</th>\n",
       "      <th>severity</th>\n",
       "      <th>Driver_name</th>\n",
       "    </tr>\n",
       "  </thead>\n",
       "  <tbody>\n",
       "    <tr>\n",
       "      <th>0</th>\n",
       "      <td>France</td>\n",
       "      <td>Day</td>\n",
       "      <td>Urban</td>\n",
       "      <td>Medium</td>\n",
       "      <td>Ringo</td>\n",
       "    </tr>\n",
       "    <tr>\n",
       "      <th>1</th>\n",
       "      <td>US</td>\n",
       "      <td>Night</td>\n",
       "      <td>Country</td>\n",
       "      <td>Medium</td>\n",
       "      <td>Paul</td>\n",
       "    </tr>\n",
       "    <tr>\n",
       "      <th>2</th>\n",
       "      <td>Germany</td>\n",
       "      <td>Night</td>\n",
       "      <td>Urban</td>\n",
       "      <td>Minor</td>\n",
       "      <td>Paul</td>\n",
       "    </tr>\n",
       "    <tr>\n",
       "      <th>3</th>\n",
       "      <td>UK</td>\n",
       "      <td>Night</td>\n",
       "      <td>Country</td>\n",
       "      <td>Major</td>\n",
       "      <td>Ringo</td>\n",
       "    </tr>\n",
       "    <tr>\n",
       "      <th>4</th>\n",
       "      <td>Italy</td>\n",
       "      <td>Day</td>\n",
       "      <td>Urban</td>\n",
       "      <td>critical</td>\n",
       "      <td>George</td>\n",
       "    </tr>\n",
       "  </tbody>\n",
       "</table>\n",
       "</div>"
      ],
      "text/plain": [
       "   Country Illumination road_type  severity Driver_name\n",
       "0   France          Day     Urban    Medium       Ringo\n",
       "1       US        Night   Country    Medium        Paul\n",
       "2  Germany        Night     Urban     Minor        Paul\n",
       "3       UK        Night   Country     Major       Ringo\n",
       "4    Italy          Day     Urban  critical      George"
      ]
     },
     "execution_count": 45,
     "metadata": {},
     "output_type": "execute_result"
    }
   ],
   "source": [
    "df = pd.read_csv(\"Test_Data (2).txt\", sep='\\t')\n",
    "df=df.drop(\"ID\",axis=1)\n",
    "df.head()"
   ]
  },
  {
   "cell_type": "code",
   "execution_count": 46,
   "metadata": {},
   "outputs": [
    {
     "data": {
      "text/plain": [
       "Medium      789\n",
       "major       611\n",
       "Minor       359\n",
       "critical    344\n",
       "Critical     80\n",
       "Major        56\n",
       "Name: severity, dtype: int64"
      ]
     },
     "execution_count": 46,
     "metadata": {},
     "output_type": "execute_result"
    }
   ],
   "source": [
    "df.severity.value_counts()"
   ]
  },
  {
   "cell_type": "code",
   "execution_count": 47,
   "metadata": {},
   "outputs": [
    {
     "data": {
      "text/plain": [
       "High      1091\n",
       "Medium     789\n",
       "Minor      359\n",
       "Name: severity, dtype: int64"
      ]
     },
     "execution_count": 47,
     "metadata": {},
     "output_type": "execute_result"
    }
   ],
   "source": [
    "df['severity']=df.severity.replace({'major':\"Major\",\"critical\":\"Critical\"})\n",
    "df['severity']=df.severity.replace({'Major':\"High\",\"Critical\":\"High\"})\n",
    "df.severity.value_counts()"
   ]
  },
  {
   "cell_type": "code",
   "execution_count": 48,
   "metadata": {},
   "outputs": [
    {
     "data": {
      "text/html": [
       "<div>\n",
       "<style scoped>\n",
       "    .dataframe tbody tr th:only-of-type {\n",
       "        vertical-align: middle;\n",
       "    }\n",
       "\n",
       "    .dataframe tbody tr th {\n",
       "        vertical-align: top;\n",
       "    }\n",
       "\n",
       "    .dataframe thead th {\n",
       "        text-align: right;\n",
       "    }\n",
       "</style>\n",
       "<table border=\"1\" class=\"dataframe\">\n",
       "  <thead>\n",
       "    <tr style=\"text-align: right;\">\n",
       "      <th>Driver_name</th>\n",
       "      <th>George</th>\n",
       "      <th>John</th>\n",
       "      <th>Paul</th>\n",
       "      <th>Ringo</th>\n",
       "    </tr>\n",
       "    <tr>\n",
       "      <th>severity</th>\n",
       "      <th></th>\n",
       "      <th></th>\n",
       "      <th></th>\n",
       "      <th></th>\n",
       "    </tr>\n",
       "  </thead>\n",
       "  <tbody>\n",
       "    <tr>\n",
       "      <th>High</th>\n",
       "      <td>268</td>\n",
       "      <td>249</td>\n",
       "      <td>245</td>\n",
       "      <td>329</td>\n",
       "    </tr>\n",
       "    <tr>\n",
       "      <th>Medium</th>\n",
       "      <td>170</td>\n",
       "      <td>197</td>\n",
       "      <td>192</td>\n",
       "      <td>230</td>\n",
       "    </tr>\n",
       "    <tr>\n",
       "      <th>Minor</th>\n",
       "      <td>122</td>\n",
       "      <td>114</td>\n",
       "      <td>123</td>\n",
       "      <td>0</td>\n",
       "    </tr>\n",
       "  </tbody>\n",
       "</table>\n",
       "</div>"
      ],
      "text/plain": [
       "Driver_name  George  John  Paul  Ringo\n",
       "severity                              \n",
       "High            268   249   245    329\n",
       "Medium          170   197   192    230\n",
       "Minor           122   114   123      0"
      ]
     },
     "execution_count": 48,
     "metadata": {},
     "output_type": "execute_result"
    }
   ],
   "source": [
    "cross_driver=pd.crosstab(df['severity'], df['Driver_name'], rownames=['severity'], colnames=['Driver_name'])\n",
    "cross_driver"
   ]
  },
  {
   "cell_type": "code",
   "execution_count": 49,
   "metadata": {},
   "outputs": [
    {
     "data": {
      "text/plain": [
       "<matplotlib.axes._subplots.AxesSubplot at 0x18f07e6c208>"
      ]
     },
     "execution_count": 49,
     "metadata": {},
     "output_type": "execute_result"
    },
    {
     "data": {
      "image/png": "[encoded data removed]",
      "text/plain": [
       "<Figure size 432x288 with 2 Axes>"
      ]
     },
     "metadata": {},
     "output_type": "display_data"
    }
   ],
   "source": [
    "sns.heatmap(cross_driver, annot=False,mask=np.zeros_like(cross_driver, dtype=np.bool), cmap=sns.diverging_palette(220, 10, as_cmap=True),\n",
    "            square=True)"
   ]
  },
  {
   "cell_type": "code",
   "execution_count": 50,
   "metadata": {},
   "outputs": [
    {
     "data": {
      "image/png": "[encoded data removed]",
      "text/plain": [
       "<Figure size 864x432 with 1 Axes>"
      ]
     },
     "metadata": {},
     "output_type": "display_data"
    }
   ],
   "source": [
    "plt.figure(figsize=(12, 6))\n",
    "splot=sns.countplot(x=\"Driver_name\",hue_order = ['High', 'Medium', 'Minor'], hue=\"severity\",data=df,palette=\"Set1\")\n",
    "plt.title(\"Driver_name Histogram\",fontsize='xx-large', fontweight='bold')\n",
    "plt.ylabel(\"Count\")\n",
    "plt.xlabel(\"Driver_name\")\n",
    "plt.tight_layout()\n",
    "for p in splot.patches:\n",
    "    splot.annotate(format(p.get_height()), (p.get_x() + p.get_width() / 2., p.get_height()), ha = 'center', va = 'center', xytext = (0, 10), textcoords = 'offset points')"
   ]
  },
  {
   "cell_type": "code",
   "execution_count": 51,
   "metadata": {},
   "outputs": [
    {
     "data": {
      "text/html": [
       "<div>\n",
       "<style scoped>\n",
       "    .dataframe tbody tr th:only-of-type {\n",
       "        vertical-align: middle;\n",
       "    }\n",
       "\n",
       "    .dataframe tbody tr th {\n",
       "        vertical-align: top;\n",
       "    }\n",
       "\n",
       "    .dataframe thead th {\n",
       "        text-align: right;\n",
       "    }\n",
       "</style>\n",
       "<table border=\"1\" class=\"dataframe\">\n",
       "  <thead>\n",
       "    <tr style=\"text-align: right;\">\n",
       "      <th>road_type</th>\n",
       "      <th>Country</th>\n",
       "      <th>Highway</th>\n",
       "      <th>Urban</th>\n",
       "    </tr>\n",
       "    <tr>\n",
       "      <th>severity</th>\n",
       "      <th></th>\n",
       "      <th></th>\n",
       "      <th></th>\n",
       "    </tr>\n",
       "  </thead>\n",
       "  <tbody>\n",
       "    <tr>\n",
       "      <th>High</th>\n",
       "      <td>343</td>\n",
       "      <td>353</td>\n",
       "      <td>395</td>\n",
       "    </tr>\n",
       "    <tr>\n",
       "      <th>Medium</th>\n",
       "      <td>218</td>\n",
       "      <td>209</td>\n",
       "      <td>362</td>\n",
       "    </tr>\n",
       "    <tr>\n",
       "      <th>Minor</th>\n",
       "      <td>125</td>\n",
       "      <td>129</td>\n",
       "      <td>105</td>\n",
       "    </tr>\n",
       "  </tbody>\n",
       "</table>\n",
       "</div>"
      ],
      "text/plain": [
       "road_type  Country  Highway  Urban\n",
       "severity                          \n",
       "High           343      353    395\n",
       "Medium         218      209    362\n",
       "Minor          125      129    105"
      ]
     },
     "execution_count": 51,
     "metadata": {},
     "output_type": "execute_result"
    }
   ],
   "source": [
    "cross_road=pd.crosstab(df['severity'], df['road_type'], rownames=['severity'], colnames=['road_type'])\n",
    "cross_road"
   ]
  },
  {
   "cell_type": "code",
   "execution_count": 52,
   "metadata": {},
   "outputs": [
    {
     "data": {
      "text/plain": [
       "<matplotlib.axes._subplots.AxesSubplot at 0x18f077d2dc8>"
      ]
     },
     "execution_count": 52,
     "metadata": {},
     "output_type": "execute_result"
    },
    {
     "data": {
      "image/png": "[encoded data removed]",
      "text/plain": [
       "<Figure size 432x288 with 2 Axes>"
      ]
     },
     "metadata": {},
     "output_type": "display_data"
    }
   ],
   "source": [
    "sns.heatmap(cross_road, annot=False,mask=np.zeros_like(cross_road, dtype=np.bool), cmap=sns.diverging_palette(220, 10, as_cmap=True),\n",
    "            square=True)"
   ]
  },
  {
   "cell_type": "code",
   "execution_count": 53,
   "metadata": {},
   "outputs": [
    {
     "data": {
      "image/png": "[encoded data removed]",
      "text/plain": [
       "<Figure size 864x432 with 1 Axes>"
      ]
     },
     "metadata": {},
     "output_type": "display_data"
    }
   ],
   "source": [
    "plt.figure(figsize=(12, 6))\n",
    "splot=sns.countplot(x=\"road_type\",hue_order = ['High', 'Medium', 'Minor'], hue=\"severity\",data=df,palette=\"Set1\")\n",
    "plt.title(\"road_type Histogram\",fontsize='xx-large', fontweight='bold')\n",
    "plt.ylabel(\"Count\")\n",
    "plt.xlabel(\"road_type\")\n",
    "plt.tight_layout()\n",
    "for p in splot.patches:\n",
    "    splot.annotate(format(p.get_height()), (p.get_x() + p.get_width() / 2., p.get_height()), ha = 'center', va = 'center', xytext = (0, 10), textcoords = 'offset points')"
   ]
  },
  {
   "cell_type": "code",
   "execution_count": 54,
   "metadata": {},
   "outputs": [
    {
     "data": {
      "text/html": [
       "<div>\n",
       "<style scoped>\n",
       "    .dataframe tbody tr th:only-of-type {\n",
       "        vertical-align: middle;\n",
       "    }\n",
       "\n",
       "    .dataframe tbody tr th {\n",
       "        vertical-align: top;\n",
       "    }\n",
       "\n",
       "    .dataframe thead th {\n",
       "        text-align: right;\n",
       "    }\n",
       "</style>\n",
       "<table border=\"1\" class=\"dataframe\">\n",
       "  <thead>\n",
       "    <tr style=\"text-align: right;\">\n",
       "      <th>Country</th>\n",
       "      <th>France</th>\n",
       "      <th>Germany</th>\n",
       "      <th>Italy</th>\n",
       "      <th>Sweden</th>\n",
       "      <th>UK</th>\n",
       "      <th>US</th>\n",
       "    </tr>\n",
       "    <tr>\n",
       "      <th>severity</th>\n",
       "      <th></th>\n",
       "      <th></th>\n",
       "      <th></th>\n",
       "      <th></th>\n",
       "      <th></th>\n",
       "      <th></th>\n",
       "    </tr>\n",
       "  </thead>\n",
       "  <tbody>\n",
       "    <tr>\n",
       "      <th>High</th>\n",
       "      <td>158</td>\n",
       "      <td>165</td>\n",
       "      <td>295</td>\n",
       "      <td>157</td>\n",
       "      <td>150</td>\n",
       "      <td>166</td>\n",
       "    </tr>\n",
       "    <tr>\n",
       "      <th>Medium</th>\n",
       "      <td>154</td>\n",
       "      <td>132</td>\n",
       "      <td>73</td>\n",
       "      <td>140</td>\n",
       "      <td>154</td>\n",
       "      <td>136</td>\n",
       "    </tr>\n",
       "    <tr>\n",
       "      <th>Minor</th>\n",
       "      <td>61</td>\n",
       "      <td>77</td>\n",
       "      <td>5</td>\n",
       "      <td>76</td>\n",
       "      <td>69</td>\n",
       "      <td>71</td>\n",
       "    </tr>\n",
       "  </tbody>\n",
       "</table>\n",
       "</div>"
      ],
      "text/plain": [
       "Country   France  Germany  Italy  Sweden   UK   US\n",
       "severity                                          \n",
       "High         158      165    295     157  150  166\n",
       "Medium       154      132     73     140  154  136\n",
       "Minor         61       77      5      76   69   71"
      ]
     },
     "execution_count": 54,
     "metadata": {},
     "output_type": "execute_result"
    }
   ],
   "source": [
    "cross_country=pd.crosstab(df['severity'], df['Country'], rownames=['severity'], colnames=['Country'])\n",
    "cross_country"
   ]
  },
  {
   "cell_type": "code",
   "execution_count": 55,
   "metadata": {},
   "outputs": [
    {
     "data": {
      "text/plain": [
       "<matplotlib.axes._subplots.AxesSubplot at 0x18f07ee6588>"
      ]
     },
     "execution_count": 55,
     "metadata": {},
     "output_type": "execute_result"
    },
    {
     "data": {
      "image/png": "[encoded data removed]",
      "text/plain": [
       "<Figure size 432x288 with 2 Axes>"
      ]
     },
     "metadata": {},
     "output_type": "display_data"
    }
   ],
   "source": [
    "sns.heatmap(cross_country, annot=False,mask=np.zeros_like(cross_country, dtype=np.bool), cmap=sns.diverging_palette(220, 10, as_cmap=True),\n",
    "            square=True)"
   ]
  },
  {
   "cell_type": "code",
   "execution_count": 56,
   "metadata": {},
   "outputs": [
    {
     "data": {
      "image/png": "[encoded data removed]",
      "text/plain": [
       "<Figure size 864x432 with 1 Axes>"
      ]
     },
     "metadata": {},
     "output_type": "display_data"
    }
   ],
   "source": [
    "plt.figure(figsize=(12, 6))\n",
    "splot=sns.countplot(x=\"Country\",hue_order = ['High', 'Medium', 'Minor'], hue=\"severity\",data=df,palette=\"Set1\")\n",
    "plt.title(\"Country Histogram\",fontsize='xx-large', fontweight='bold')\n",
    "plt.ylabel(\"Count\")\n",
    "plt.xlabel(\"Country\")\n",
    "plt.tight_layout()\n",
    "for p in splot.patches:\n",
    "    splot.annotate(format(p.get_height()), (p.get_x() + p.get_width() / 2., p.get_height()), ha = 'center', va = 'center', xytext = (0, 10), textcoords = 'offset points')"
   ]
  },
  {
   "cell_type": "code",
   "execution_count": 57,
   "metadata": {},
   "outputs": [
    {
     "data": {
      "text/html": [
       "<div>\n",
       "<style scoped>\n",
       "    .dataframe tbody tr th:only-of-type {\n",
       "        vertical-align: middle;\n",
       "    }\n",
       "\n",
       "    .dataframe tbody tr th {\n",
       "        vertical-align: top;\n",
       "    }\n",
       "\n",
       "    .dataframe thead th {\n",
       "        text-align: right;\n",
       "    }\n",
       "</style>\n",
       "<table border=\"1\" class=\"dataframe\">\n",
       "  <thead>\n",
       "    <tr style=\"text-align: right;\">\n",
       "      <th>Illumination</th>\n",
       "      <th>Day</th>\n",
       "      <th>Dusk</th>\n",
       "      <th>Night</th>\n",
       "    </tr>\n",
       "    <tr>\n",
       "      <th>severity</th>\n",
       "      <th></th>\n",
       "      <th></th>\n",
       "      <th></th>\n",
       "    </tr>\n",
       "  </thead>\n",
       "  <tbody>\n",
       "    <tr>\n",
       "      <th>High</th>\n",
       "      <td>457</td>\n",
       "      <td>98</td>\n",
       "      <td>536</td>\n",
       "    </tr>\n",
       "    <tr>\n",
       "      <th>Medium</th>\n",
       "      <td>422</td>\n",
       "      <td>32</td>\n",
       "      <td>335</td>\n",
       "    </tr>\n",
       "    <tr>\n",
       "      <th>Minor</th>\n",
       "      <td>116</td>\n",
       "      <td>121</td>\n",
       "      <td>122</td>\n",
       "    </tr>\n",
       "  </tbody>\n",
       "</table>\n",
       "</div>"
      ],
      "text/plain": [
       "Illumination  Day  Dusk  Night\n",
       "severity                      \n",
       "High          457    98    536\n",
       "Medium        422    32    335\n",
       "Minor         116   121    122"
      ]
     },
     "execution_count": 57,
     "metadata": {},
     "output_type": "execute_result"
    }
   ],
   "source": [
    "cross_light=pd.crosstab(df['severity'], df['Illumination'], rownames=['severity'], colnames=['Illumination'])\n",
    "cross_light"
   ]
  },
  {
   "cell_type": "code",
   "execution_count": 58,
   "metadata": {},
   "outputs": [
    {
     "data": {
      "text/plain": [
       "<matplotlib.axes._subplots.AxesSubplot at 0x18f07f2fbc8>"
      ]
     },
     "execution_count": 58,
     "metadata": {},
     "output_type": "execute_result"
    },
    {
     "data": {
      "image/png": "[encoded data removed]",
      "text/plain": [
       "<Figure size 432x288 with 2 Axes>"
      ]
     },
     "metadata": {},
     "output_type": "display_data"
    }
   ],
   "source": [
    "sns.heatmap(cross_light, annot=False,mask=np.zeros_like(cross_light, dtype=np.bool), cmap=sns.diverging_palette(220, 10, as_cmap=True),\n",
    "            square=True)"
   ]
  },
  {
   "cell_type": "code",
   "execution_count": 59,
   "metadata": {},
   "outputs": [
    {
     "data": {
      "image/png": "[encoded data removed]",
      "text/plain": [
       "<Figure size 864x432 with 1 Axes>"
      ]
     },
     "metadata": {},
     "output_type": "display_data"
    }
   ],
   "source": [
    "plt.figure(figsize=(12, 6))\n",
    "splot=sns.countplot(x=\"Illumination\",hue_order = ['High', 'Medium', 'Minor'], hue=\"severity\",data=df,palette=\"Set1\")\n",
    "plt.title(\"Illumination Histogram\",fontsize='xx-large', fontweight='bold')\n",
    "plt.ylabel(\"Count\")\n",
    "plt.xlabel(\"Illumination\")\n",
    "plt.tight_layout()\n",
    "for p in splot.patches:\n",
    "    splot.annotate(format(p.get_height()), (p.get_x() + p.get_width() / 2., p.get_height()), ha = 'center', va = 'center', xytext = (0, 10), textcoords = 'offset points')"
   ]
  },
  {
   "cell_type": "markdown",
   "metadata": {},
   "source": [
    "<h1><u>Q2 - Sensor </u></h1>"
   ]
  },
  {
   "cell_type": "code",
   "execution_count": 60,
   "metadata": {},
   "outputs": [
    {
     "data": {
      "text/html": [
       "<div>\n",
       "<style scoped>\n",
       "    .dataframe tbody tr th:only-of-type {\n",
       "        vertical-align: middle;\n",
       "    }\n",
       "\n",
       "    .dataframe tbody tr th {\n",
       "        vertical-align: top;\n",
       "    }\n",
       "\n",
       "    .dataframe thead th {\n",
       "        text-align: right;\n",
       "    }\n",
       "</style>\n",
       "<table border=\"1\" class=\"dataframe\">\n",
       "  <thead>\n",
       "    <tr style=\"text-align: right;\">\n",
       "      <th></th>\n",
       "      <th>Series1</th>\n",
       "      <th>Series2</th>\n",
       "      <th>Series3</th>\n",
       "      <th>real_measure</th>\n",
       "    </tr>\n",
       "  </thead>\n",
       "  <tbody>\n",
       "    <tr>\n",
       "      <th>0</th>\n",
       "      <td>0.007782</td>\n",
       "      <td>-0.456367</td>\n",
       "      <td>2.352182</td>\n",
       "      <td>2.47</td>\n",
       "    </tr>\n",
       "    <tr>\n",
       "      <th>1</th>\n",
       "      <td>2.738273</td>\n",
       "      <td>2.619737</td>\n",
       "      <td>2.505987</td>\n",
       "      <td>2.47</td>\n",
       "    </tr>\n",
       "    <tr>\n",
       "      <th>2</th>\n",
       "      <td>4.144261</td>\n",
       "      <td>3.449640</td>\n",
       "      <td>2.547482</td>\n",
       "      <td>2.47</td>\n",
       "    </tr>\n",
       "    <tr>\n",
       "      <th>3</th>\n",
       "      <td>0.058901</td>\n",
       "      <td>0.235777</td>\n",
       "      <td>2.386789</td>\n",
       "      <td>2.47</td>\n",
       "    </tr>\n",
       "    <tr>\n",
       "      <th>4</th>\n",
       "      <td>2.646718</td>\n",
       "      <td>2.573619</td>\n",
       "      <td>2.503681</td>\n",
       "      <td>2.47</td>\n",
       "    </tr>\n",
       "  </tbody>\n",
       "</table>\n",
       "</div>"
      ],
      "text/plain": [
       "    Series1   Series2   Series3  real_measure\n",
       "0  0.007782 -0.456367  2.352182          2.47\n",
       "1  2.738273  2.619737  2.505987          2.47\n",
       "2  4.144261  3.449640  2.547482          2.47\n",
       "3  0.058901  0.235777  2.386789          2.47\n",
       "4  2.646718  2.573619  2.503681          2.47"
      ]
     },
     "execution_count": 60,
     "metadata": {},
     "output_type": "execute_result"
    }
   ],
   "source": [
    "df = pd.read_csv(\"sensor (2).txt\", sep='\\t')\n",
    "df.head()"
   ]
  },
  {
   "cell_type": "code",
   "execution_count": 61,
   "metadata": {},
   "outputs": [
    {
     "data": {
      "text/html": [
       "<div>\n",
       "<style scoped>\n",
       "    .dataframe tbody tr th:only-of-type {\n",
       "        vertical-align: middle;\n",
       "    }\n",
       "\n",
       "    .dataframe tbody tr th {\n",
       "        vertical-align: top;\n",
       "    }\n",
       "\n",
       "    .dataframe thead th {\n",
       "        text-align: right;\n",
       "    }\n",
       "</style>\n",
       "<table border=\"1\" class=\"dataframe\">\n",
       "  <thead>\n",
       "    <tr style=\"text-align: right;\">\n",
       "      <th></th>\n",
       "      <th>Signal1</th>\n",
       "      <th>Signal2</th>\n",
       "      <th>Signal3</th>\n",
       "    </tr>\n",
       "  </thead>\n",
       "  <tbody>\n",
       "    <tr>\n",
       "      <th>0</th>\n",
       "      <td>0.007782</td>\n",
       "      <td>-0.456367</td>\n",
       "      <td>2.352182</td>\n",
       "    </tr>\n",
       "    <tr>\n",
       "      <th>1</th>\n",
       "      <td>2.738273</td>\n",
       "      <td>2.619737</td>\n",
       "      <td>2.505987</td>\n",
       "    </tr>\n",
       "    <tr>\n",
       "      <th>2</th>\n",
       "      <td>4.144261</td>\n",
       "      <td>3.449640</td>\n",
       "      <td>2.547482</td>\n",
       "    </tr>\n",
       "    <tr>\n",
       "      <th>3</th>\n",
       "      <td>0.058901</td>\n",
       "      <td>0.235777</td>\n",
       "      <td>2.386789</td>\n",
       "    </tr>\n",
       "    <tr>\n",
       "      <th>4</th>\n",
       "      <td>2.646718</td>\n",
       "      <td>2.573619</td>\n",
       "      <td>2.503681</td>\n",
       "    </tr>\n",
       "  </tbody>\n",
       "</table>\n",
       "</div>"
      ],
      "text/plain": [
       "    Signal1   Signal2   Signal3\n",
       "0  0.007782 -0.456367  2.352182\n",
       "1  2.738273  2.619737  2.505987\n",
       "2  4.144261  3.449640  2.547482\n",
       "3  0.058901  0.235777  2.386789\n",
       "4  2.646718  2.573619  2.503681"
      ]
     },
     "execution_count": 61,
     "metadata": {},
     "output_type": "execute_result"
    }
   ],
   "source": [
    "df_signal=df.rename(columns={\"Series1\": \"Signal1\", \"Series2\": \"Signal2\",\"Series3\": \"Signal3\"}).drop(\"real_measure\",axis=1)\n",
    "df_signal.head()"
   ]
  },
  {
   "cell_type": "code",
   "execution_count": 62,
   "metadata": {},
   "outputs": [
    {
     "data": {
      "text/html": [
       "<div>\n",
       "<style scoped>\n",
       "    .dataframe tbody tr th:only-of-type {\n",
       "        vertical-align: middle;\n",
       "    }\n",
       "\n",
       "    .dataframe tbody tr th {\n",
       "        vertical-align: top;\n",
       "    }\n",
       "\n",
       "    .dataframe thead th {\n",
       "        text-align: right;\n",
       "    }\n",
       "</style>\n",
       "<table border=\"1\" class=\"dataframe\">\n",
       "  <thead>\n",
       "    <tr style=\"text-align: right;\">\n",
       "      <th></th>\n",
       "      <th>Noise1</th>\n",
       "      <th>Noise2</th>\n",
       "      <th>Noise3</th>\n",
       "    </tr>\n",
       "  </thead>\n",
       "  <tbody>\n",
       "    <tr>\n",
       "      <th>0</th>\n",
       "      <td>2.462218</td>\n",
       "      <td>2.926367</td>\n",
       "      <td>0.117818</td>\n",
       "    </tr>\n",
       "    <tr>\n",
       "      <th>1</th>\n",
       "      <td>-0.268273</td>\n",
       "      <td>-0.149737</td>\n",
       "      <td>-0.035987</td>\n",
       "    </tr>\n",
       "    <tr>\n",
       "      <th>2</th>\n",
       "      <td>-1.674261</td>\n",
       "      <td>-0.979640</td>\n",
       "      <td>-0.077482</td>\n",
       "    </tr>\n",
       "    <tr>\n",
       "      <th>3</th>\n",
       "      <td>2.411099</td>\n",
       "      <td>2.234223</td>\n",
       "      <td>0.083211</td>\n",
       "    </tr>\n",
       "    <tr>\n",
       "      <th>4</th>\n",
       "      <td>-0.176718</td>\n",
       "      <td>-0.103619</td>\n",
       "      <td>-0.033681</td>\n",
       "    </tr>\n",
       "  </tbody>\n",
       "</table>\n",
       "</div>"
      ],
      "text/plain": [
       "     Noise1    Noise2    Noise3\n",
       "0  2.462218  2.926367  0.117818\n",
       "1 -0.268273 -0.149737 -0.035987\n",
       "2 -1.674261 -0.979640 -0.077482\n",
       "3  2.411099  2.234223  0.083211\n",
       "4 -0.176718 -0.103619 -0.033681"
      ]
     },
     "execution_count": 62,
     "metadata": {},
     "output_type": "execute_result"
    }
   ],
   "source": [
    "df_noise=df.real_measure[0]-df\n",
    "df_noise=df_noise.drop(\"real_measure\",axis=1)\n",
    "df_noise=df_noise.rename(columns={\"Series1\": \"Noise1\", \"Series2\": \"Noise2\",\"Series3\": \"Noise3\"})\n",
    "df_noise.head()"
   ]
  },
  {
   "cell_type": "code",
   "execution_count": 63,
   "metadata": {},
   "outputs": [],
   "source": [
    "SS_Noise1=sum(map(lambda i : i * i, df_noise.Noise1))\n",
    "SS_Noise2=sum(map(lambda i : i * i, df_noise.Noise2)) \n",
    "SS_Noise3=sum(map(lambda i : i * i, df_noise.Noise3))\n",
    "SS_Signal1=sum(map(lambda i : i * i, df_signal.Signal1))\n",
    "SS_Signal2=sum(map(lambda i : i * i, df_signal.Signal2)) \n",
    "SS_Signal3=sum(map(lambda i : i * i, df_signal.Signal3))"
   ]
  },
  {
   "cell_type": "code",
   "execution_count": 64,
   "metadata": {},
   "outputs": [],
   "source": [
    "RMS_signal1=np.sqrt(SS_Signal1/len(df_signal.Signal1))\n",
    "RMS_signal2=np.sqrt(SS_Signal2/len(df_signal.Signal2))\n",
    "RMS_signal3=np.sqrt(SS_Signal3/len(df_signal.Signal3))\n",
    "\n",
    "RMS_noise1=np.sqrt(SS_Noise1/len(df_noise.Noise1))\n",
    "RMS_noise2=np.sqrt(SS_Noise2/len(df_noise.Noise2))\n",
    "RMS_noise3=np.sqrt(SS_Noise3/len(df_noise.Noise3))"
   ]
  },
  {
   "cell_type": "code",
   "execution_count": 65,
   "metadata": {},
   "outputs": [],
   "source": [
    "dB1=round(20*np.log10(RMS_signal1/RMS_noise1),2)\n",
    "dB2=round(20*np.log10(RMS_signal2/RMS_noise2),2)\n",
    "dB3=round(20*np.log10(RMS_signal3/RMS_noise3),2)"
   ]
  },
  {
   "cell_type": "code",
   "execution_count": 79,
   "metadata": {},
   "outputs": [
    {
     "data": {
      "image/png": "[encoded data removed]",
      "text/plain": [
       "<Figure size 432x288 with 1 Axes>"
      ]
     },
     "metadata": {},
     "output_type": "display_data"
    }
   ],
   "source": [
    "df_plot=pd.DataFrame({'dB':['dB1', 'dB2', 'dB3'], 'val':[dB1, dB2, dB3]}).plot.bar(x='dB', y='val', rot=0)\n",
    "for p in df_plot.patches:\n",
    "    df_plot.annotate(format(p.get_height()), (p.get_x() + p.get_width() / 2., p.get_height()), ha = 'center', va = 'center', xytext = (0, 10), textcoords = 'offset points')"
   ]
  },
  {
   "cell_type": "code",
   "execution_count": 83,
   "metadata": {},
   "outputs": [
    {
     "data": {
      "image/png": "[encoded data removed]",
      "text/plain": [
       "<Figure size 432x288 with 1 Axes>"
      ]
     },
     "metadata": {},
     "output_type": "display_data"
    }
   ],
   "source": [
    "df_plot=df_noise.rename(columns={\"Noise1\": \"Noise1_var\", \"Noise2\": \"Noise2_var\",\"Noise3\": \"Noise3_var\"}).var().plot.bar(rot=0)\n",
    "for p in df_plot.patches:\n",
    "    df_plot.annotate(format(p.get_height(),'.3f'), (p.get_x() + p.get_width() / 2., p.get_height()), ha = 'center', va = 'center', xytext = (0, 10), textcoords = 'offset points')"
   ]
  },
  {
   "cell_type": "code",
   "execution_count": 68,
   "metadata": {},
   "outputs": [
    {
     "data": {
      "text/html": [
       "<div>\n",
       "<style scoped>\n",
       "    .dataframe tbody tr th:only-of-type {\n",
       "        vertical-align: middle;\n",
       "    }\n",
       "\n",
       "    .dataframe tbody tr th {\n",
       "        vertical-align: top;\n",
       "    }\n",
       "\n",
       "    .dataframe thead th {\n",
       "        text-align: right;\n",
       "    }\n",
       "</style>\n",
       "<table border=\"1\" class=\"dataframe\">\n",
       "  <thead>\n",
       "    <tr style=\"text-align: right;\">\n",
       "      <th></th>\n",
       "      <th>Signal1</th>\n",
       "      <th>Signal2</th>\n",
       "      <th>Signal3</th>\n",
       "    </tr>\n",
       "  </thead>\n",
       "  <tbody>\n",
       "    <tr>\n",
       "      <th>count</th>\n",
       "      <td>1000.000000</td>\n",
       "      <td>1000.000000</td>\n",
       "      <td>1000.000000</td>\n",
       "    </tr>\n",
       "    <tr>\n",
       "      <th>mean</th>\n",
       "      <td>2.474553</td>\n",
       "      <td>2.477194</td>\n",
       "      <td>2.498860</td>\n",
       "    </tr>\n",
       "    <tr>\n",
       "      <th>std</th>\n",
       "      <td>1.414456</td>\n",
       "      <td>0.974731</td>\n",
       "      <td>0.048737</td>\n",
       "    </tr>\n",
       "    <tr>\n",
       "      <th>min</th>\n",
       "      <td>0.004578</td>\n",
       "      <td>-0.616438</td>\n",
       "      <td>2.344178</td>\n",
       "    </tr>\n",
       "    <tr>\n",
       "      <th>25%</th>\n",
       "      <td>1.319582</td>\n",
       "      <td>1.868683</td>\n",
       "      <td>2.468434</td>\n",
       "    </tr>\n",
       "    <tr>\n",
       "      <th>50%</th>\n",
       "      <td>2.473678</td>\n",
       "      <td>2.486803</td>\n",
       "      <td>2.499340</td>\n",
       "    </tr>\n",
       "    <tr>\n",
       "      <th>75%</th>\n",
       "      <td>3.683775</td>\n",
       "      <td>3.133373</td>\n",
       "      <td>2.531669</td>\n",
       "    </tr>\n",
       "    <tr>\n",
       "      <th>max</th>\n",
       "      <td>4.986419</td>\n",
       "      <td>5.280216</td>\n",
       "      <td>2.639011</td>\n",
       "    </tr>\n",
       "  </tbody>\n",
       "</table>\n",
       "</div>"
      ],
      "text/plain": [
       "           Signal1      Signal2      Signal3\n",
       "count  1000.000000  1000.000000  1000.000000\n",
       "mean      2.474553     2.477194     2.498860\n",
       "std       1.414456     0.974731     0.048737\n",
       "min       0.004578    -0.616438     2.344178\n",
       "25%       1.319582     1.868683     2.468434\n",
       "50%       2.473678     2.486803     2.499340\n",
       "75%       3.683775     3.133373     2.531669\n",
       "max       4.986419     5.280216     2.639011"
      ]
     },
     "execution_count": 68,
     "metadata": {},
     "output_type": "execute_result"
    }
   ],
   "source": [
    "df_signal.describe()"
   ]
  },
  {
   "cell_type": "code",
   "execution_count": 69,
   "metadata": {},
   "outputs": [
    {
     "data": {
      "image/png": "[encoded data removed]",
      "text/plain": [
       "<Figure size 864x432 with 1 Axes>"
      ]
     },
     "metadata": {},
     "output_type": "display_data"
    },
    {
     "data": {
      "image/png": "[encoded data removed]",
      "text/plain": [
       "<Figure size 864x432 with 1 Axes>"
      ]
     },
     "metadata": {},
     "output_type": "display_data"
    },
    {
     "data": {
      "image/png": "[encoded data removed]",
      "text/plain": [
       "<Figure size 864x432 with 1 Axes>"
      ]
     },
     "metadata": {},
     "output_type": "display_data"
    }
   ],
   "source": [
    "for feature in df_signal.columns:\n",
    "#devide for economic \n",
    "    plt.figure(figsize=(12, 6))\n",
    "    sns.kdeplot(df_signal[feature],color=\"r\", shade=True, shade_lowest=False)\n",
    "    plt.title(\"Feature Histogram - \" + feature,fontsize='xx-large', fontweight='bold')\n",
    "    plt.ylabel(\"Count\")\n",
    "    plt.xlabel(feature)\n",
    "    plt.tight_layout()"
   ]
  },
  {
   "cell_type": "code",
   "execution_count": 70,
   "metadata": {},
   "outputs": [
    {
     "data": {
      "text/plain": [
       "0      2.396045\n",
       "1      3.625327\n",
       "2      4.288319\n",
       "3      2.398406\n",
       "4      3.590534\n",
       "         ...   \n",
       "995    4.188116\n",
       "996    5.118644\n",
       "997    3.500705\n",
       "998    3.992055\n",
       "999    3.660272\n",
       "Length: 1000, dtype: float64"
      ]
     },
     "execution_count": 70,
     "metadata": {},
     "output_type": "execute_result"
    }
   ],
   "source": [
    "(df_signal.iloc[:,1:]**2).sum(1).pow(1/2)"
   ]
  },
  {
   "cell_type": "code",
   "execution_count": 85,
   "metadata": {},
   "outputs": [
    {
     "data": {
      "image/png": "[encoded data removed]",
      "text/plain": [
       "<Figure size 432x288 with 1 Axes>"
      ]
     },
     "metadata": {},
     "output_type": "display_data"
    }
   ],
   "source": [
    "df_plot=pd.DataFrame({'RMS_signal':['RMS_signal 1', 'RMS_signal 2', 'RMS_signal 3'], 'RMS':[RMS_signal1, RMS_signal2, RMS_signal3]}).plot.bar(x='RMS_signal', y='RMS', rot=0)\n",
    "for p in df_plot.patches:\n",
    "    df_plot.annotate(format(p.get_height(),'.2f'), (p.get_x() + p.get_width() / 2., p.get_height()), ha = 'center', va = 'center', xytext = (0, 10), textcoords = 'offset points')"
   ]
  },
  {
   "cell_type": "markdown",
   "metadata": {},
   "source": [
    "<h1><u>Q3 - Parser</u></h1>"
   ]
  },
  {
   "cell_type": "code",
   "execution_count": 72,
   "metadata": {},
   "outputs": [],
   "source": [
    "my_list=[]\n",
    "f = open(\"parser.log\", \"r\")\n",
    "readline=f.readlines()\n",
    "for line in readline:\n",
    "    my_list.append(line.replace('7D 5D','7D').replace('7D 5E','7E').strip().split())"
   ]
  },
  {
   "cell_type": "code",
   "execution_count": 73,
   "metadata": {},
   "outputs": [
    {
     "data": {
      "text/html": [
       "<div>\n",
       "<style scoped>\n",
       "    .dataframe tbody tr th:only-of-type {\n",
       "        vertical-align: middle;\n",
       "    }\n",
       "\n",
       "    .dataframe tbody tr th {\n",
       "        vertical-align: top;\n",
       "    }\n",
       "\n",
       "    .dataframe thead th {\n",
       "        text-align: right;\n",
       "    }\n",
       "</style>\n",
       "<table border=\"1\" class=\"dataframe\">\n",
       "  <thead>\n",
       "    <tr style=\"text-align: right;\">\n",
       "      <th></th>\n",
       "      <th>0</th>\n",
       "      <th>1</th>\n",
       "      <th>2</th>\n",
       "      <th>3</th>\n",
       "      <th>4</th>\n",
       "      <th>5</th>\n",
       "      <th>6</th>\n",
       "      <th>7</th>\n",
       "      <th>8</th>\n",
       "      <th>9</th>\n",
       "      <th>...</th>\n",
       "      <th>12</th>\n",
       "      <th>13</th>\n",
       "      <th>14</th>\n",
       "      <th>15</th>\n",
       "      <th>16</th>\n",
       "      <th>17</th>\n",
       "      <th>18</th>\n",
       "      <th>19</th>\n",
       "      <th>20</th>\n",
       "      <th>21</th>\n",
       "    </tr>\n",
       "  </thead>\n",
       "  <tbody>\n",
       "    <tr>\n",
       "      <th>0</th>\n",
       "      <td>7E</td>\n",
       "      <td>40</td>\n",
       "      <td>51</td>\n",
       "      <td>00</td>\n",
       "      <td>CB</td>\n",
       "      <td>71</td>\n",
       "      <td>FA</td>\n",
       "      <td>1F</td>\n",
       "      <td>CC</td>\n",
       "      <td>FE</td>\n",
       "      <td>...</td>\n",
       "      <td>39</td>\n",
       "      <td>01</td>\n",
       "      <td>00</td>\n",
       "      <td>00</td>\n",
       "      <td>00</td>\n",
       "      <td>00</td>\n",
       "      <td>00</td>\n",
       "      <td>00</td>\n",
       "      <td>F6</td>\n",
       "      <td>7E</td>\n",
       "    </tr>\n",
       "    <tr>\n",
       "      <th>1</th>\n",
       "      <td>7E</td>\n",
       "      <td>40</td>\n",
       "      <td>51</td>\n",
       "      <td>00</td>\n",
       "      <td>C6</td>\n",
       "      <td>71</td>\n",
       "      <td>01</td>\n",
       "      <td>10</td>\n",
       "      <td>CC</td>\n",
       "      <td>FE</td>\n",
       "      <td>...</td>\n",
       "      <td>39</td>\n",
       "      <td>01</td>\n",
       "      <td>00</td>\n",
       "      <td>00</td>\n",
       "      <td>00</td>\n",
       "      <td>00</td>\n",
       "      <td>00</td>\n",
       "      <td>00</td>\n",
       "      <td>03</td>\n",
       "      <td>7E</td>\n",
       "    </tr>\n",
       "    <tr>\n",
       "      <th>2</th>\n",
       "      <td>7E</td>\n",
       "      <td>40</td>\n",
       "      <td>51</td>\n",
       "      <td>00</td>\n",
       "      <td>C6</td>\n",
       "      <td>71</td>\n",
       "      <td>05</td>\n",
       "      <td>10</td>\n",
       "      <td>8C</td>\n",
       "      <td>FE</td>\n",
       "      <td>...</td>\n",
       "      <td>39</td>\n",
       "      <td>01</td>\n",
       "      <td>00</td>\n",
       "      <td>00</td>\n",
       "      <td>00</td>\n",
       "      <td>00</td>\n",
       "      <td>00</td>\n",
       "      <td>00</td>\n",
       "      <td>3F</td>\n",
       "      <td>7E</td>\n",
       "    </tr>\n",
       "    <tr>\n",
       "      <th>3</th>\n",
       "      <td>7E</td>\n",
       "      <td>40</td>\n",
       "      <td>51</td>\n",
       "      <td>00</td>\n",
       "      <td>C4</td>\n",
       "      <td>71</td>\n",
       "      <td>08</td>\n",
       "      <td>10</td>\n",
       "      <td>8C</td>\n",
       "      <td>FE</td>\n",
       "      <td>...</td>\n",
       "      <td>39</td>\n",
       "      <td>01</td>\n",
       "      <td>00</td>\n",
       "      <td>00</td>\n",
       "      <td>00</td>\n",
       "      <td>00</td>\n",
       "      <td>00</td>\n",
       "      <td>00</td>\n",
       "      <td>3E</td>\n",
       "      <td>7E</td>\n",
       "    </tr>\n",
       "    <tr>\n",
       "      <th>4</th>\n",
       "      <td>7E</td>\n",
       "      <td>40</td>\n",
       "      <td>51</td>\n",
       "      <td>00</td>\n",
       "      <td>C2</td>\n",
       "      <td>71</td>\n",
       "      <td>06</td>\n",
       "      <td>10</td>\n",
       "      <td>5C</td>\n",
       "      <td>FE</td>\n",
       "      <td>...</td>\n",
       "      <td>39</td>\n",
       "      <td>01</td>\n",
       "      <td>00</td>\n",
       "      <td>00</td>\n",
       "      <td>00</td>\n",
       "      <td>00</td>\n",
       "      <td>00</td>\n",
       "      <td>00</td>\n",
       "      <td>72</td>\n",
       "      <td>7E</td>\n",
       "    </tr>\n",
       "    <tr>\n",
       "      <th>...</th>\n",
       "      <td>...</td>\n",
       "      <td>...</td>\n",
       "      <td>...</td>\n",
       "      <td>...</td>\n",
       "      <td>...</td>\n",
       "      <td>...</td>\n",
       "      <td>...</td>\n",
       "      <td>...</td>\n",
       "      <td>...</td>\n",
       "      <td>...</td>\n",
       "      <td>...</td>\n",
       "      <td>...</td>\n",
       "      <td>...</td>\n",
       "      <td>...</td>\n",
       "      <td>...</td>\n",
       "      <td>...</td>\n",
       "      <td>...</td>\n",
       "      <td>...</td>\n",
       "      <td>...</td>\n",
       "      <td>...</td>\n",
       "      <td>...</td>\n",
       "    </tr>\n",
       "    <tr>\n",
       "      <th>346</th>\n",
       "      <td>7E</td>\n",
       "      <td>40</td>\n",
       "      <td>51</td>\n",
       "      <td>00</td>\n",
       "      <td>00</td>\n",
       "      <td>70</td>\n",
       "      <td>00</td>\n",
       "      <td>10</td>\n",
       "      <td>8C</td>\n",
       "      <td>FD</td>\n",
       "      <td>...</td>\n",
       "      <td>50</td>\n",
       "      <td>03</td>\n",
       "      <td>00</td>\n",
       "      <td>00</td>\n",
       "      <td>00</td>\n",
       "      <td>00</td>\n",
       "      <td>00</td>\n",
       "      <td>00</td>\n",
       "      <td>F3</td>\n",
       "      <td>7E</td>\n",
       "    </tr>\n",
       "    <tr>\n",
       "      <th>347</th>\n",
       "      <td>7E</td>\n",
       "      <td>40</td>\n",
       "      <td>51</td>\n",
       "      <td>00</td>\n",
       "      <td>00</td>\n",
       "      <td>70</td>\n",
       "      <td>00</td>\n",
       "      <td>10</td>\n",
       "      <td>8C</td>\n",
       "      <td>FD</td>\n",
       "      <td>...</td>\n",
       "      <td>50</td>\n",
       "      <td>03</td>\n",
       "      <td>00</td>\n",
       "      <td>00</td>\n",
       "      <td>00</td>\n",
       "      <td>00</td>\n",
       "      <td>00</td>\n",
       "      <td>00</td>\n",
       "      <td>F3</td>\n",
       "      <td>7E</td>\n",
       "    </tr>\n",
       "    <tr>\n",
       "      <th>348</th>\n",
       "      <td>7E</td>\n",
       "      <td>40</td>\n",
       "      <td>51</td>\n",
       "      <td>00</td>\n",
       "      <td>00</td>\n",
       "      <td>70</td>\n",
       "      <td>00</td>\n",
       "      <td>10</td>\n",
       "      <td>8C</td>\n",
       "      <td>FD</td>\n",
       "      <td>...</td>\n",
       "      <td>50</td>\n",
       "      <td>03</td>\n",
       "      <td>00</td>\n",
       "      <td>00</td>\n",
       "      <td>00</td>\n",
       "      <td>00</td>\n",
       "      <td>00</td>\n",
       "      <td>00</td>\n",
       "      <td>F3</td>\n",
       "      <td>7E</td>\n",
       "    </tr>\n",
       "    <tr>\n",
       "      <th>349</th>\n",
       "      <td>7E</td>\n",
       "      <td>40</td>\n",
       "      <td>51</td>\n",
       "      <td>00</td>\n",
       "      <td>00</td>\n",
       "      <td>70</td>\n",
       "      <td>00</td>\n",
       "      <td>10</td>\n",
       "      <td>8C</td>\n",
       "      <td>FD</td>\n",
       "      <td>...</td>\n",
       "      <td>50</td>\n",
       "      <td>03</td>\n",
       "      <td>00</td>\n",
       "      <td>00</td>\n",
       "      <td>00</td>\n",
       "      <td>00</td>\n",
       "      <td>00</td>\n",
       "      <td>00</td>\n",
       "      <td>F3</td>\n",
       "      <td>7E</td>\n",
       "    </tr>\n",
       "    <tr>\n",
       "      <th>350</th>\n",
       "      <td>7E</td>\n",
       "      <td>40</td>\n",
       "      <td>51</td>\n",
       "      <td>00</td>\n",
       "      <td>00</td>\n",
       "      <td>70</td>\n",
       "      <td>00</td>\n",
       "      <td>10</td>\n",
       "      <td>8C</td>\n",
       "      <td>FD</td>\n",
       "      <td>...</td>\n",
       "      <td>50</td>\n",
       "      <td>03</td>\n",
       "      <td>00</td>\n",
       "      <td>00</td>\n",
       "      <td>00</td>\n",
       "      <td>00</td>\n",
       "      <td>00</td>\n",
       "      <td>00</td>\n",
       "      <td>F3</td>\n",
       "      <td>7E</td>\n",
       "    </tr>\n",
       "  </tbody>\n",
       "</table>\n",
       "<p>351 rows × 22 columns</p>\n",
       "</div>"
      ],
      "text/plain": [
       "     0   1   2   3   4   5   6   7   8   9   ...  12  13  14  15  16  17  18  \\\n",
       "0    7E  40  51  00  CB  71  FA  1F  CC  FE  ...  39  01  00  00  00  00  00   \n",
       "1    7E  40  51  00  C6  71  01  10  CC  FE  ...  39  01  00  00  00  00  00   \n",
       "2    7E  40  51  00  C6  71  05  10  8C  FE  ...  39  01  00  00  00  00  00   \n",
       "3    7E  40  51  00  C4  71  08  10  8C  FE  ...  39  01  00  00  00  00  00   \n",
       "4    7E  40  51  00  C2  71  06  10  5C  FE  ...  39  01  00  00  00  00  00   \n",
       "..   ..  ..  ..  ..  ..  ..  ..  ..  ..  ..  ...  ..  ..  ..  ..  ..  ..  ..   \n",
       "346  7E  40  51  00  00  70  00  10  8C  FD  ...  50  03  00  00  00  00  00   \n",
       "347  7E  40  51  00  00  70  00  10  8C  FD  ...  50  03  00  00  00  00  00   \n",
       "348  7E  40  51  00  00  70  00  10  8C  FD  ...  50  03  00  00  00  00  00   \n",
       "349  7E  40  51  00  00  70  00  10  8C  FD  ...  50  03  00  00  00  00  00   \n",
       "350  7E  40  51  00  00  70  00  10  8C  FD  ...  50  03  00  00  00  00  00   \n",
       "\n",
       "     19  20  21  \n",
       "0    00  F6  7E  \n",
       "1    00  03  7E  \n",
       "2    00  3F  7E  \n",
       "3    00  3E  7E  \n",
       "4    00  72  7E  \n",
       "..   ..  ..  ..  \n",
       "346  00  F3  7E  \n",
       "347  00  F3  7E  \n",
       "348  00  F3  7E  \n",
       "349  00  F3  7E  \n",
       "350  00  F3  7E  \n",
       "\n",
       "[351 rows x 22 columns]"
      ]
     },
     "execution_count": 73,
     "metadata": {},
     "output_type": "execute_result"
    }
   ],
   "source": [
    "df=pd.DataFrame(my_list)\n",
    "df"
   ]
  },
  {
   "cell_type": "code",
   "execution_count": 74,
   "metadata": {},
   "outputs": [
    {
     "name": "stdout",
     "output_type": "stream",
     "text": [
      "Total NaN rows = 0\n"
     ]
    }
   ],
   "source": [
    "print(\"Total NaN rows = \" + str(sum(df.isna().sum())))"
   ]
  },
  {
   "cell_type": "code",
   "execution_count": 75,
   "metadata": {},
   "outputs": [],
   "source": [
    "df=df.apply(lambda x: x.astype(str).map(lambda x: int(x, base=16)))\n",
    "df.columns=[\"row_\"+str(name) for name in range(1,23)]"
   ]
  },
  {
   "cell_type": "markdown",
   "metadata": {},
   "source": [
    "df=df.drop([\"row_\"+str(name) for name in range(1,9)],axis=1)\n",
    "df=df.drop([\"row_21\",\"row_22\"],axis=1)"
   ]
  },
  {
   "cell_type": "markdown",
   "metadata": {},
   "source": [
    "Inside the Data stream the speed is from the 9th bit to the 20th (including). The data is in little endian."
   ]
  },
  {
   "cell_type": "code",
   "execution_count": 76,
   "metadata": {},
   "outputs": [
    {
     "data": {
      "text/html": [
       "<div>\n",
       "<style scoped>\n",
       "    .dataframe tbody tr th:only-of-type {\n",
       "        vertical-align: middle;\n",
       "    }\n",
       "\n",
       "    .dataframe tbody tr th {\n",
       "        vertical-align: top;\n",
       "    }\n",
       "\n",
       "    .dataframe thead th {\n",
       "        text-align: right;\n",
       "    }\n",
       "</style>\n",
       "<table border=\"1\" class=\"dataframe\">\n",
       "  <thead>\n",
       "    <tr style=\"text-align: right;\">\n",
       "      <th></th>\n",
       "      <th>row_1</th>\n",
       "      <th>row_2</th>\n",
       "      <th>row_3</th>\n",
       "      <th>row_5</th>\n",
       "      <th>row_6</th>\n",
       "      <th>row_7</th>\n",
       "      <th>row_8</th>\n",
       "      <th>row_9</th>\n",
       "      <th>row_10</th>\n",
       "      <th>row_11</th>\n",
       "      <th>row_13</th>\n",
       "      <th>row_14</th>\n",
       "      <th>row_21</th>\n",
       "      <th>row_22</th>\n",
       "    </tr>\n",
       "  </thead>\n",
       "  <tbody>\n",
       "    <tr>\n",
       "      <th>0</th>\n",
       "      <td>12.6</td>\n",
       "      <td>6.4</td>\n",
       "      <td>8.1</td>\n",
       "      <td>20.3</td>\n",
       "      <td>11.3</td>\n",
       "      <td>25.0</td>\n",
       "      <td>3.1</td>\n",
       "      <td>20.4</td>\n",
       "      <td>25.4</td>\n",
       "      <td>3.1</td>\n",
       "      <td>5.7</td>\n",
       "      <td>0.1</td>\n",
       "      <td>24.6</td>\n",
       "      <td>12.6</td>\n",
       "    </tr>\n",
       "    <tr>\n",
       "      <th>1</th>\n",
       "      <td>12.6</td>\n",
       "      <td>6.4</td>\n",
       "      <td>8.1</td>\n",
       "      <td>19.8</td>\n",
       "      <td>11.3</td>\n",
       "      <td>0.1</td>\n",
       "      <td>1.6</td>\n",
       "      <td>20.4</td>\n",
       "      <td>25.4</td>\n",
       "      <td>3.1</td>\n",
       "      <td>5.7</td>\n",
       "      <td>0.1</td>\n",
       "      <td>0.3</td>\n",
       "      <td>12.6</td>\n",
       "    </tr>\n",
       "    <tr>\n",
       "      <th>2</th>\n",
       "      <td>12.6</td>\n",
       "      <td>6.4</td>\n",
       "      <td>8.1</td>\n",
       "      <td>19.8</td>\n",
       "      <td>11.3</td>\n",
       "      <td>0.5</td>\n",
       "      <td>1.6</td>\n",
       "      <td>14.0</td>\n",
       "      <td>25.4</td>\n",
       "      <td>3.1</td>\n",
       "      <td>5.7</td>\n",
       "      <td>0.1</td>\n",
       "      <td>6.3</td>\n",
       "      <td>12.6</td>\n",
       "    </tr>\n",
       "    <tr>\n",
       "      <th>3</th>\n",
       "      <td>12.6</td>\n",
       "      <td>6.4</td>\n",
       "      <td>8.1</td>\n",
       "      <td>19.6</td>\n",
       "      <td>11.3</td>\n",
       "      <td>0.8</td>\n",
       "      <td>1.6</td>\n",
       "      <td>14.0</td>\n",
       "      <td>25.4</td>\n",
       "      <td>3.1</td>\n",
       "      <td>5.7</td>\n",
       "      <td>0.1</td>\n",
       "      <td>6.2</td>\n",
       "      <td>12.6</td>\n",
       "    </tr>\n",
       "    <tr>\n",
       "      <th>4</th>\n",
       "      <td>12.6</td>\n",
       "      <td>6.4</td>\n",
       "      <td>8.1</td>\n",
       "      <td>19.4</td>\n",
       "      <td>11.3</td>\n",
       "      <td>0.6</td>\n",
       "      <td>1.6</td>\n",
       "      <td>9.2</td>\n",
       "      <td>25.4</td>\n",
       "      <td>3.1</td>\n",
       "      <td>5.7</td>\n",
       "      <td>0.1</td>\n",
       "      <td>11.4</td>\n",
       "      <td>12.6</td>\n",
       "    </tr>\n",
       "    <tr>\n",
       "      <th>...</th>\n",
       "      <td>...</td>\n",
       "      <td>...</td>\n",
       "      <td>...</td>\n",
       "      <td>...</td>\n",
       "      <td>...</td>\n",
       "      <td>...</td>\n",
       "      <td>...</td>\n",
       "      <td>...</td>\n",
       "      <td>...</td>\n",
       "      <td>...</td>\n",
       "      <td>...</td>\n",
       "      <td>...</td>\n",
       "      <td>...</td>\n",
       "      <td>...</td>\n",
       "    </tr>\n",
       "    <tr>\n",
       "      <th>346</th>\n",
       "      <td>12.6</td>\n",
       "      <td>6.4</td>\n",
       "      <td>8.1</td>\n",
       "      <td>0.0</td>\n",
       "      <td>11.2</td>\n",
       "      <td>0.0</td>\n",
       "      <td>1.6</td>\n",
       "      <td>14.0</td>\n",
       "      <td>25.3</td>\n",
       "      <td>3.1</td>\n",
       "      <td>8.0</td>\n",
       "      <td>0.3</td>\n",
       "      <td>24.3</td>\n",
       "      <td>12.6</td>\n",
       "    </tr>\n",
       "    <tr>\n",
       "      <th>347</th>\n",
       "      <td>12.6</td>\n",
       "      <td>6.4</td>\n",
       "      <td>8.1</td>\n",
       "      <td>0.0</td>\n",
       "      <td>11.2</td>\n",
       "      <td>0.0</td>\n",
       "      <td>1.6</td>\n",
       "      <td>14.0</td>\n",
       "      <td>25.3</td>\n",
       "      <td>3.1</td>\n",
       "      <td>8.0</td>\n",
       "      <td>0.3</td>\n",
       "      <td>24.3</td>\n",
       "      <td>12.6</td>\n",
       "    </tr>\n",
       "    <tr>\n",
       "      <th>348</th>\n",
       "      <td>12.6</td>\n",
       "      <td>6.4</td>\n",
       "      <td>8.1</td>\n",
       "      <td>0.0</td>\n",
       "      <td>11.2</td>\n",
       "      <td>0.0</td>\n",
       "      <td>1.6</td>\n",
       "      <td>14.0</td>\n",
       "      <td>25.3</td>\n",
       "      <td>3.1</td>\n",
       "      <td>8.0</td>\n",
       "      <td>0.3</td>\n",
       "      <td>24.3</td>\n",
       "      <td>12.6</td>\n",
       "    </tr>\n",
       "    <tr>\n",
       "      <th>349</th>\n",
       "      <td>12.6</td>\n",
       "      <td>6.4</td>\n",
       "      <td>8.1</td>\n",
       "      <td>0.0</td>\n",
       "      <td>11.2</td>\n",
       "      <td>0.0</td>\n",
       "      <td>1.6</td>\n",
       "      <td>14.0</td>\n",
       "      <td>25.3</td>\n",
       "      <td>3.1</td>\n",
       "      <td>8.0</td>\n",
       "      <td>0.3</td>\n",
       "      <td>24.3</td>\n",
       "      <td>12.6</td>\n",
       "    </tr>\n",
       "    <tr>\n",
       "      <th>350</th>\n",
       "      <td>12.6</td>\n",
       "      <td>6.4</td>\n",
       "      <td>8.1</td>\n",
       "      <td>0.0</td>\n",
       "      <td>11.2</td>\n",
       "      <td>0.0</td>\n",
       "      <td>1.6</td>\n",
       "      <td>14.0</td>\n",
       "      <td>25.3</td>\n",
       "      <td>3.1</td>\n",
       "      <td>8.0</td>\n",
       "      <td>0.3</td>\n",
       "      <td>24.3</td>\n",
       "      <td>12.6</td>\n",
       "    </tr>\n",
       "  </tbody>\n",
       "</table>\n",
       "<p>351 rows × 14 columns</p>\n",
       "</div>"
      ],
      "text/plain": [
       "     row_1  row_2  row_3  row_5  row_6  row_7  row_8  row_9  row_10  row_11  \\\n",
       "0     12.6    6.4    8.1   20.3   11.3   25.0    3.1   20.4    25.4     3.1   \n",
       "1     12.6    6.4    8.1   19.8   11.3    0.1    1.6   20.4    25.4     3.1   \n",
       "2     12.6    6.4    8.1   19.8   11.3    0.5    1.6   14.0    25.4     3.1   \n",
       "3     12.6    6.4    8.1   19.6   11.3    0.8    1.6   14.0    25.4     3.1   \n",
       "4     12.6    6.4    8.1   19.4   11.3    0.6    1.6    9.2    25.4     3.1   \n",
       "..     ...    ...    ...    ...    ...    ...    ...    ...     ...     ...   \n",
       "346   12.6    6.4    8.1    0.0   11.2    0.0    1.6   14.0    25.3     3.1   \n",
       "347   12.6    6.4    8.1    0.0   11.2    0.0    1.6   14.0    25.3     3.1   \n",
       "348   12.6    6.4    8.1    0.0   11.2    0.0    1.6   14.0    25.3     3.1   \n",
       "349   12.6    6.4    8.1    0.0   11.2    0.0    1.6   14.0    25.3     3.1   \n",
       "350   12.6    6.4    8.1    0.0   11.2    0.0    1.6   14.0    25.3     3.1   \n",
       "\n",
       "     row_13  row_14  row_21  row_22  \n",
       "0       5.7     0.1    24.6    12.6  \n",
       "1       5.7     0.1     0.3    12.6  \n",
       "2       5.7     0.1     6.3    12.6  \n",
       "3       5.7     0.1     6.2    12.6  \n",
       "4       5.7     0.1    11.4    12.6  \n",
       "..      ...     ...     ...     ...  \n",
       "346     8.0     0.3    24.3    12.6  \n",
       "347     8.0     0.3    24.3    12.6  \n",
       "348     8.0     0.3    24.3    12.6  \n",
       "349     8.0     0.3    24.3    12.6  \n",
       "350     8.0     0.3    24.3    12.6  \n",
       "\n",
       "[351 rows x 14 columns]"
      ]
     },
     "execution_count": 76,
     "metadata": {},
     "output_type": "execute_result"
    }
   ],
   "source": [
    "df = df.loc[:, (df != 0).any(axis=0)]*0.1\n",
    "df"
   ]
  },
  {
   "cell_type": "code",
   "execution_count": 77,
   "metadata": {},
   "outputs": [
    {
     "data": {
      "text/html": [
       "<div>\n",
       "<style scoped>\n",
       "    .dataframe tbody tr th:only-of-type {\n",
       "        vertical-align: middle;\n",
       "    }\n",
       "\n",
       "    .dataframe tbody tr th {\n",
       "        vertical-align: top;\n",
       "    }\n",
       "\n",
       "    .dataframe thead th {\n",
       "        text-align: right;\n",
       "    }\n",
       "</style>\n",
       "<table border=\"1\" class=\"dataframe\">\n",
       "  <thead>\n",
       "    <tr style=\"text-align: right;\">\n",
       "      <th></th>\n",
       "      <th>row_1</th>\n",
       "      <th>row_2</th>\n",
       "      <th>row_3</th>\n",
       "      <th>row_5</th>\n",
       "      <th>row_6</th>\n",
       "      <th>row_7</th>\n",
       "      <th>row_8</th>\n",
       "      <th>row_9</th>\n",
       "      <th>row_10</th>\n",
       "      <th>row_11</th>\n",
       "      <th>row_13</th>\n",
       "      <th>row_14</th>\n",
       "      <th>row_21</th>\n",
       "      <th>row_22</th>\n",
       "    </tr>\n",
       "  </thead>\n",
       "  <tbody>\n",
       "    <tr>\n",
       "      <th>count</th>\n",
       "      <td>3.510000e+02</td>\n",
       "      <td>3.510000e+02</td>\n",
       "      <td>3.510000e+02</td>\n",
       "      <td>351.000000</td>\n",
       "      <td>351.000000</td>\n",
       "      <td>351.000000</td>\n",
       "      <td>351.000000</td>\n",
       "      <td>351.000000</td>\n",
       "      <td>351.000000</td>\n",
       "      <td>351.000000</td>\n",
       "      <td>351.000000</td>\n",
       "      <td>351.000000</td>\n",
       "      <td>351.000000</td>\n",
       "      <td>3.510000e+02</td>\n",
       "    </tr>\n",
       "    <tr>\n",
       "      <th>mean</th>\n",
       "      <td>1.260000e+01</td>\n",
       "      <td>6.400000e+00</td>\n",
       "      <td>8.100000e+00</td>\n",
       "      <td>7.130484</td>\n",
       "      <td>11.226781</td>\n",
       "      <td>8.986895</td>\n",
       "      <td>2.129915</td>\n",
       "      <td>13.940741</td>\n",
       "      <td>23.027920</td>\n",
       "      <td>2.963248</td>\n",
       "      <td>6.723647</td>\n",
       "      <td>0.211111</td>\n",
       "      <td>14.527066</td>\n",
       "      <td>1.260000e+01</td>\n",
       "    </tr>\n",
       "    <tr>\n",
       "      <th>std</th>\n",
       "      <td>3.379896e-14</td>\n",
       "      <td>4.180398e-14</td>\n",
       "      <td>5.158789e-14</td>\n",
       "      <td>7.909727</td>\n",
       "      <td>0.044345</td>\n",
       "      <td>12.065919</td>\n",
       "      <td>0.718005</td>\n",
       "      <td>6.980800</td>\n",
       "      <td>7.278357</td>\n",
       "      <td>0.432388</td>\n",
       "      <td>1.018421</td>\n",
       "      <td>0.099523</td>\n",
       "      <td>7.409749</td>\n",
       "      <td>3.379896e-14</td>\n",
       "    </tr>\n",
       "    <tr>\n",
       "      <th>min</th>\n",
       "      <td>1.260000e+01</td>\n",
       "      <td>6.400000e+00</td>\n",
       "      <td>8.100000e+00</td>\n",
       "      <td>0.000000</td>\n",
       "      <td>11.200000</td>\n",
       "      <td>0.000000</td>\n",
       "      <td>1.600000</td>\n",
       "      <td>1.200000</td>\n",
       "      <td>0.000000</td>\n",
       "      <td>1.600000</td>\n",
       "      <td>5.700000</td>\n",
       "      <td>0.100000</td>\n",
       "      <td>0.100000</td>\n",
       "      <td>1.260000e+01</td>\n",
       "    </tr>\n",
       "    <tr>\n",
       "      <th>25%</th>\n",
       "      <td>1.260000e+01</td>\n",
       "      <td>6.400000e+00</td>\n",
       "      <td>8.100000e+00</td>\n",
       "      <td>0.000000</td>\n",
       "      <td>11.200000</td>\n",
       "      <td>0.000000</td>\n",
       "      <td>1.600000</td>\n",
       "      <td>7.600000</td>\n",
       "      <td>25.300000</td>\n",
       "      <td>3.100000</td>\n",
       "      <td>5.800000</td>\n",
       "      <td>0.100000</td>\n",
       "      <td>7.350000</td>\n",
       "      <td>1.260000e+01</td>\n",
       "    </tr>\n",
       "    <tr>\n",
       "      <th>50%</th>\n",
       "      <td>1.260000e+01</td>\n",
       "      <td>6.400000e+00</td>\n",
       "      <td>8.100000e+00</td>\n",
       "      <td>3.800000</td>\n",
       "      <td>11.200000</td>\n",
       "      <td>0.100000</td>\n",
       "      <td>1.600000</td>\n",
       "      <td>17.200000</td>\n",
       "      <td>25.300000</td>\n",
       "      <td>3.100000</td>\n",
       "      <td>6.100000</td>\n",
       "      <td>0.300000</td>\n",
       "      <td>16.200000</td>\n",
       "      <td>1.260000e+01</td>\n",
       "    </tr>\n",
       "    <tr>\n",
       "      <th>75%</th>\n",
       "      <td>1.260000e+01</td>\n",
       "      <td>6.400000e+00</td>\n",
       "      <td>8.100000e+00</td>\n",
       "      <td>14.000000</td>\n",
       "      <td>11.300000</td>\n",
       "      <td>25.200000</td>\n",
       "      <td>3.100000</td>\n",
       "      <td>17.200000</td>\n",
       "      <td>25.300000</td>\n",
       "      <td>3.100000</td>\n",
       "      <td>8.000000</td>\n",
       "      <td>0.300000</td>\n",
       "      <td>21.100000</td>\n",
       "      <td>1.260000e+01</td>\n",
       "    </tr>\n",
       "    <tr>\n",
       "      <th>max</th>\n",
       "      <td>1.260000e+01</td>\n",
       "      <td>6.400000e+00</td>\n",
       "      <td>8.100000e+00</td>\n",
       "      <td>25.400000</td>\n",
       "      <td>11.300000</td>\n",
       "      <td>25.500000</td>\n",
       "      <td>3.100000</td>\n",
       "      <td>25.200000</td>\n",
       "      <td>25.500000</td>\n",
       "      <td>3.100000</td>\n",
       "      <td>8.200000</td>\n",
       "      <td>0.300000</td>\n",
       "      <td>25.500000</td>\n",
       "      <td>1.260000e+01</td>\n",
       "    </tr>\n",
       "  </tbody>\n",
       "</table>\n",
       "</div>"
      ],
      "text/plain": [
       "              row_1         row_2         row_3       row_5       row_6  \\\n",
       "count  3.510000e+02  3.510000e+02  3.510000e+02  351.000000  351.000000   \n",
       "mean   1.260000e+01  6.400000e+00  8.100000e+00    7.130484   11.226781   \n",
       "std    3.379896e-14  4.180398e-14  5.158789e-14    7.909727    0.044345   \n",
       "min    1.260000e+01  6.400000e+00  8.100000e+00    0.000000   11.200000   \n",
       "25%    1.260000e+01  6.400000e+00  8.100000e+00    0.000000   11.200000   \n",
       "50%    1.260000e+01  6.400000e+00  8.100000e+00    3.800000   11.200000   \n",
       "75%    1.260000e+01  6.400000e+00  8.100000e+00   14.000000   11.300000   \n",
       "max    1.260000e+01  6.400000e+00  8.100000e+00   25.400000   11.300000   \n",
       "\n",
       "            row_7       row_8       row_9      row_10      row_11      row_13  \\\n",
       "count  351.000000  351.000000  351.000000  351.000000  351.000000  351.000000   \n",
       "mean     8.986895    2.129915   13.940741   23.027920    2.963248    6.723647   \n",
       "std     12.065919    0.718005    6.980800    7.278357    0.432388    1.018421   \n",
       "min      0.000000    1.600000    1.200000    0.000000    1.600000    5.700000   \n",
       "25%      0.000000    1.600000    7.600000   25.300000    3.100000    5.800000   \n",
       "50%      0.100000    1.600000   17.200000   25.300000    3.100000    6.100000   \n",
       "75%     25.200000    3.100000   17.200000   25.300000    3.100000    8.000000   \n",
       "max     25.500000    3.100000   25.200000   25.500000    3.100000    8.200000   \n",
       "\n",
       "           row_14      row_21        row_22  \n",
       "count  351.000000  351.000000  3.510000e+02  \n",
       "mean     0.211111   14.527066  1.260000e+01  \n",
       "std      0.099523    7.409749  3.379896e-14  \n",
       "min      0.100000    0.100000  1.260000e+01  \n",
       "25%      0.100000    7.350000  1.260000e+01  \n",
       "50%      0.300000   16.200000  1.260000e+01  \n",
       "75%      0.300000   21.100000  1.260000e+01  \n",
       "max      0.300000   25.500000  1.260000e+01  "
      ]
     },
     "execution_count": 77,
     "metadata": {},
     "output_type": "execute_result"
    }
   ],
   "source": [
    "df.describe()"
   ]
  }
 ],
 "metadata": {
  "kernelspec": {
   "display_name": "Python 3",
   "language": "python",
   "name": "python3"
  },
  "language_info": {
   "codemirror_mode": {
    "name": "ipython",
    "version": 3
   },
   "file_extension": ".py",
   "mimetype": "text/x-python",
   "name": "python",
   "nbconvert_exporter": "python",
   "pygments_lexer": "ipython3",
   "version": "3.7.6"
  }
 },
 "nbformat": 4,
 "nbformat_minor": 4
}
